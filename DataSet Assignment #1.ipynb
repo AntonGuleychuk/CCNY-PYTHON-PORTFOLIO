{
 "cells": [
  {
   "cell_type": "code",
   "execution_count": 170,
   "id": "16c1fae4-83f4-4513-a57f-f6e3b401bcfa",
   "metadata": {},
   "outputs": [],
   "source": [
    "import pandas as pd"
   ]
  },
  {
   "cell_type": "markdown",
   "id": "65538755-1ee2-4687-9cea-eed46d34a7c4",
   "metadata": {},
   "source": [
    "**Most Awarded Actos**"
   ]
  },
  {
   "cell_type": "code",
   "execution_count": 173,
   "id": "e83b910e-dbbd-4fe1-ab80-9acbf550eeab",
   "metadata": {},
   "outputs": [],
   "source": [
    "Actors_data = [(2,9), (2,11), (3,11), (4,20)]"
   ]
  },
  {
   "cell_type": "code",
   "execution_count": 175,
   "id": "16f48f8c-9f97-421d-a910-0ad1838bcc4f",
   "metadata": {},
   "outputs": [
    {
     "data": {
      "text/plain": [
       "list"
      ]
     },
     "execution_count": 175,
     "metadata": {},
     "output_type": "execute_result"
    }
   ],
   "source": [
    "type(Actors_data)"
   ]
  },
  {
   "cell_type": "code",
   "execution_count": 177,
   "id": "860684ad-bc9a-4170-9b6a-29ddbdf1cf7c",
   "metadata": {},
   "outputs": [],
   "source": [
    "columns = [\"Actors\",\"Oscars\"]"
   ]
  },
  {
   "cell_type": "code",
   "execution_count": 179,
   "id": "cef32a9b-cbd2-4cf5-ae19-501e5c439dc2",
   "metadata": {},
   "outputs": [
    {
     "data": {
      "text/plain": [
       "list"
      ]
     },
     "execution_count": 179,
     "metadata": {},
     "output_type": "execute_result"
    }
   ],
   "source": [
    "type(columns)"
   ]
  },
  {
   "cell_type": "code",
   "execution_count": 181,
   "id": "e7974f49-ec51-4c02-bfcd-effeeb51b2ad",
   "metadata": {},
   "outputs": [],
   "source": [
    "Actors = pd.DataFrame(data=student_data, columns=columns)"
   ]
  },
  {
   "cell_type": "code",
   "execution_count": 183,
   "id": "d214979e-ed43-4704-9941-b7b692fd5dcf",
   "metadata": {},
   "outputs": [
    {
     "data": {
      "text/html": [
       "<div>\n",
       "<style scoped>\n",
       "    .dataframe tbody tr th:only-of-type {\n",
       "        vertical-align: middle;\n",
       "    }\n",
       "\n",
       "    .dataframe tbody tr th {\n",
       "        vertical-align: top;\n",
       "    }\n",
       "\n",
       "    .dataframe thead th {\n",
       "        text-align: right;\n",
       "    }\n",
       "</style>\n",
       "<table border=\"1\" class=\"dataframe\">\n",
       "  <thead>\n",
       "    <tr style=\"text-align: right;\">\n",
       "      <th></th>\n",
       "      <th>Actors</th>\n",
       "      <th>Oscars</th>\n",
       "    </tr>\n",
       "  </thead>\n",
       "  <tbody>\n",
       "    <tr>\n",
       "      <th>0</th>\n",
       "      <td>1</td>\n",
       "      <td>1</td>\n",
       "    </tr>\n",
       "    <tr>\n",
       "      <th>1</th>\n",
       "      <td>2</td>\n",
       "      <td>11</td>\n",
       "    </tr>\n",
       "    <tr>\n",
       "      <th>2</th>\n",
       "      <td>3</td>\n",
       "      <td>11</td>\n",
       "    </tr>\n",
       "    <tr>\n",
       "      <th>3</th>\n",
       "      <td>4</td>\n",
       "      <td>20</td>\n",
       "    </tr>\n",
       "  </tbody>\n",
       "</table>\n",
       "</div>"
      ],
      "text/plain": [
       "   Actors  Oscars\n",
       "0       1       1\n",
       "1       2      11\n",
       "2       3      11\n",
       "3       4      20"
      ]
     },
     "execution_count": 183,
     "metadata": {},
     "output_type": "execute_result"
    }
   ],
   "source": [
    "Actors"
   ]
  },
  {
   "cell_type": "code",
   "execution_count": null,
   "id": "91d5414b-57e2-4e5b-af35-9c76c6f8f2e6",
   "metadata": {},
   "outputs": [],
   "source": []
  },
  {
   "cell_type": "code",
   "execution_count": null,
   "id": "71d953ca-5b81-4ae4-bec9-61d7156c3da6",
   "metadata": {},
   "outputs": [],
   "source": []
  }
 ],
 "metadata": {
  "kernelspec": {
   "display_name": "Python 3 (ipykernel)",
   "language": "python",
   "name": "python3"
  },
  "language_info": {
   "codemirror_mode": {
    "name": "ipython",
    "version": 3
   },
   "file_extension": ".py",
   "mimetype": "text/x-python",
   "name": "python",
   "nbconvert_exporter": "python",
   "pygments_lexer": "ipython3",
   "version": "3.12.4"
  }
 },
 "nbformat": 4,
 "nbformat_minor": 5
}
