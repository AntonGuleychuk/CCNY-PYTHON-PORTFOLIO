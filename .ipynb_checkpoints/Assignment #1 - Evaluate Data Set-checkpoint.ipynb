{
 "cells": [
  {
   "cell_type": "markdown",
   "id": "4256dc96",
   "metadata": {},
   "source": [
    "# Assignment #1: Evaluate Data Set\n",
    "\n",
    "In your first graded assignment for this course, you will find and evaluate a data set on a topic of your choosing. You will be given specific questions related to the data set, and you will also be tasked with importing the data from your data set into your Jupyter Notebook environment. \n",
    "\n",
    "## Choose a Broad Topic\n",
    "\n",
    "First, choose a topic of interest to you, such as a specific social issue, a political or cultural trend, a community, or a hobby or personal interest. Ideally, it should be something relatively broad that society or culture is having some sort of conversation about, or which many people think about on a regular basis. Possible examples might be:\n",
    "\n",
    "- Housing and rental prices in New York City\n",
    "- A popular genre of music\n",
    "- A sport\n",
    "- Food prices\n",
    "- Crime\n",
    "- Government spending\n",
    "- Popularity of movies or TV shows \n",
    "- Bestselling books\n",
    "\n",
    "## Find a Data Set\n",
    "\n",
    "Search for terms related to your topic on Google, both generally and by adding specific names of websites where data will commonly be found. The following websites are frequently places to find data sets, and it sometimes makes sense to both search directly on the site and to do regular Google searches with the site name:\n",
    "\n",
    "- [Google Data Set Search](https://datasetsearch.research.google.com/)\n",
    "- [GitHub](https://github.com/)\n",
    "- [Kaggle](https://www.kaggle.com/)\n",
    "- [Data.gov](https://www.data.gov/)\n",
    "\n",
    "For example, if your topic is bestselling books, you might try these searches on Google:\n",
    "\n",
    "- bestselling books data set\n",
    "- bestselling books data set kaggle\n",
    "- bestselling books data set github\n",
    "- bestselling books data set \n",
    "\n",
    "You're not likely to find bestselling books data on data.gov, but you might find a lot of info related to health, the economy, and demographics, since that's what the government is most concerned about."
   ]
  },
  {
   "cell_type": "markdown",
   "id": "1c1a8105",
   "metadata": {},
   "source": [
    "-----"
   ]
  },
  {
   "cell_type": "markdown",
   "id": "9be8caee",
   "metadata": {},
   "source": [
    "What is your topic? (Enter responses to questions like these in the cell provided below.)"
   ]
  },
  {
   "cell_type": "markdown",
   "id": "c9702a5b",
   "metadata": {},
   "source": [
    "**Theatre Arts Centers**"
   ]
  },
  {
   "cell_type": "markdown",
   "id": "e2b8f153",
   "metadata": {},
   "source": [
    "What drew you to this topic, or why did you choose it?"
   ]
  },
  {
   "cell_type": "markdown",
   "id": "359d76a7",
   "metadata": {},
   "source": [
    "**I love actors and watching movies, I enjoy the craft and the overall idea of making something out of nothing**"
   ]
  },
  {
   "cell_type": "markdown",
   "id": "20048152",
   "metadata": {},
   "source": [
    "## Choose a Data Set\n",
    "\n",
    "Choose a data set to use for the rest of this assignment. The data set doesn't need to be perfect, but ideally it should interest you and be in one of the discussed formats (CSV, TSV, Excel, JSON, .txt). If the data is in another format, either reach out to me to ask about it or choose another data set for this assignment. You may want to look ahead to the rest of this assignment to make sure nothing about the data set will make it difficult to answer the questions or to import the data."
   ]
  },
  {
   "cell_type": "markdown",
   "id": "5e869d8d",
   "metadata": {},
   "source": [
    "What is the name of your data set? Or provide a one-sentence description."
   ]
  },
  {
   "cell_type": "markdown",
   "id": "2ddf052f",
   "metadata": {},
   "source": [
    "**The Dataset shows the addresses as well as contact information of Theatre arts facilites**"
   ]
  },
  {
   "cell_type": "markdown",
   "id": "050ab3a2",
   "metadata": {},
   "source": [
    "What is the URL of the page on which you found the data set? (Paste the full URL.)"
   ]
  },
  {
   "cell_type": "markdown",
   "id": "dc525c3e",
   "metadata": {},
   "source": [
    "**https://www.statista.com/statistics/655480/all-time-top-grossing-actors-box-office/**"
   ]
  },
  {
   "cell_type": "markdown",
   "id": "4d16c0fa",
   "metadata": {},
   "source": [
    "## Evaluation\n",
    "\n",
    "In this step, you will evaluate the data to the extent possible without using data science tools like Python or Pandas. You should download the data to your computer, and use both the data set itself as downloaded and the page you found it on to answer these questions. If you can't answer a question, write what you tried to do to answer it—don't give up right away, and try to think of other ways to answer the question. (In some cases, you can even contact the person who created the data set—if you do so, feel free to copy me on the email.)"
   ]
  },
  {
   "cell_type": "markdown",
   "id": "ba3a6174",
   "metadata": {},
   "source": [
    "What is the file format or file extension of the data set? Examples might be .csv (Comma Seperated Values), .tsv (Tab Separated Values), .xlsx (Excel workbook), .txt (plain text file), or JSON (JavaScript Object Notation)."
   ]
  },
  {
   "cell_type": "markdown",
   "id": "d17ed7a7",
   "metadata": {},
   "source": [
    "**Arts_Theatre_Center_FCC**"
   ]
  },
  {
   "cell_type": "markdown",
   "id": "6880764f",
   "metadata": {},
   "source": [
    "What is the size in megabytes (MB)or gigabytes (GB) of the data set?"
   ]
  },
  {
   "cell_type": "markdown",
   "id": "621b781a",
   "metadata": {},
   "source": [
    "**996 B**"
   ]
  },
  {
   "cell_type": "markdown",
   "id": "e8ba770e",
   "metadata": {},
   "source": [
    "How many columns or fields is the data set? (Columns or fields are different types of data—for example, a book dataset might have title, author, and year as columns.)"
   ]
  },
  {
   "cell_type": "markdown",
   "id": "41ed02fa",
   "metadata": {},
   "source": [
    "**There are 18 Columns**"
   ]
  },
  {
   "cell_type": "markdown",
   "id": "747cbbcb",
   "metadata": {},
   "source": [
    "List out the columns in the data set. (You can put each column on a line, or you can separate the columns with commas.)"
   ]
  },
  {
   "cell_type": "markdown",
   "id": "a63d096c",
   "metadata": {},
   "source": [
    "**The columns include X, Y, Name, Address1, Address2, Address3, Address4, EircodePhone, Email\tWebsite\tAccessible_Access, Type, Cafe Bar, Lat, Long, ObjectId.**"
   ]
  },
  {
   "cell_type": "markdown",
   "id": "799b491b",
   "metadata": {},
   "source": [
    "How many rows is the data set? (To use the book data set example again, each row might represent one book.)"
   ]
  },
  {
   "cell_type": "markdown",
   "id": "05e6b9ae",
   "metadata": {},
   "source": [
    "**In the graph there are 4 rows**"
   ]
  },
  {
   "cell_type": "markdown",
   "id": "9b82706b",
   "metadata": {},
   "source": [
    "What types of data appear in the data set? (You can use Python terms, like \"integer,\" \"float,\" \"boolean,\" \"string,\" or you can use other descriptive terms, like \"numeric data\" or \"text data.\" Try to be as comprehensive as possible in your answer."
   ]
  },
  {
   "cell_type": "markdown",
   "id": "bded6448",
   "metadata": {},
   "source": [
    "**Based on the information in the dataset I see \"Floats\" in the x axis and the y axis. \"Strings\" were definitely used to create text such as the email and names of the individuals in the FCC Centers.**"
   ]
  },
  {
   "cell_type": "markdown",
   "id": "ae154ab5",
   "metadata": {},
   "source": [
    "On initial inspection, does anything appear to be missing or wrong in the data set? (Don't spend too long on this.)"
   ]
  },
  {
   "cell_type": "markdown",
   "id": "89d2e870",
   "metadata": {},
   "source": [
    "***I don't see anything missing in this dataset to my knowledge. What we have learned in class so far look accurate coding based on the format and how the columns are arranged.***"
   ]
  },
  {
   "cell_type": "markdown",
   "id": "30d0ccf4",
   "metadata": {},
   "source": [
    "What kinds of questions could you answer with this data set? In answering this question, write at least one paragraph of at least 150 words."
   ]
  },
  {
   "cell_type": "markdown",
   "id": "ed19997b",
   "metadata": {},
   "source": [
    "**I guess the most important question that I could answer with the question being, \"What does the FCC Center have to offer.\" Based on the data set the Theatre Arts FCC Center offers cafeteria and cafe. Another question that could be answered is where it is located. Based on the data set the x axis and the y axis as well as the address is included in the data set. Phone numbers are included as well for contact information, it creates a safe and trust worthy environment. I can tell that \"string\" for the addresses and emails were used to create the data set. \"Floats\" were used to mark the coordinates in data set. Those are some of the question that I could answer based on my knowledge that I have learned during the lessons given to me.**     "
   ]
  },
  {
   "cell_type": "markdown",
   "id": "5fbbecb7",
   "metadata": {},
   "source": [
    "Do you see any issues or limitations with the data set? Alternatively, what do you wish was included in the data set that is not included? (Write at least one paragraph of at least 150 words.)"
   ]
  },
  {
   "cell_type": "markdown",
   "id": "e4ab6eff",
   "metadata": {},
   "source": [
    "**Personally when I look at the data set I don't see any limitations or other issues that would be problematic. I think that the graphic is very specific even including multiple addresses assigned to a single center. I guess something that I would add to the dataset would be even more locations and centers. The locations are specific as it is, even going as far as including x axis and y axis of the location. I wish information such as payment and time, how many hours are in each lesson as well as how much it will cost per cetain. I think that information is very critical for people that are looking to earn acting experience.**  "
   ]
  },
  {
   "cell_type": "markdown",
   "id": "18f10308",
   "metadata": {},
   "source": [
    "## Reading the Data in Python\n",
    "\n",
    "Using as many cells as you need in the rest of this notebook, load the data into Python. You will probably want to use Pandas to load the data. Some example code is provided for you below. \n",
    "\n",
    "To use the example code in a Jupyter Notebook on your computer, you will need to make sure your data set is in the same folder as your notebook, and that you get the filename *exactly* right, including the extension. Here is example code for a Jupyter Notebook—this is just to get you started, and you are responsible for getting this working, which may involve looking up how to import data using Python and Pandas on Google.\n",
    "\n",
    "```python\n",
    "import pandas\n",
    "\n",
    "df = pandas.read_csv('./Arts_and_Theatre_Centers_FCC.csv')\n",
    "\n",
    "df\n",
    "```\n",
    "\n",
    "If your data is in another format, you will need to use the Pandas function related to that format. For example, to import JSON:\n",
    "\n",
    "```python\n",
    "import pandas\n",
    "\n",
    "df = pandas.read_json('name_of_data_file.json')\n",
    "\n",
    "df\n",
    "```\n",
    "\n",
    "Use as much space as you need below to import the file into Pandas (as above). Make sure the dataframe (df) is shown as an output at the end.\n"
   ]
  },
  {
   "cell_type": "code",
   "execution_count": 10,
   "id": "9f589255-daaf-45b7-891a-7f614f566756",
   "metadata": {},
   "outputs": [
    {
     "data": {
      "text/html": [
       "<div>\n",
       "<style scoped>\n",
       "    .dataframe tbody tr th:only-of-type {\n",
       "        vertical-align: middle;\n",
       "    }\n",
       "\n",
       "    .dataframe tbody tr th {\n",
       "        vertical-align: top;\n",
       "    }\n",
       "\n",
       "    .dataframe thead th {\n",
       "        text-align: right;\n",
       "    }\n",
       "</style>\n",
       "<table border=\"1\" class=\"dataframe\">\n",
       "  <thead>\n",
       "    <tr style=\"text-align: right;\">\n",
       "      <th></th>\n",
       "      <th>X</th>\n",
       "      <th>Y</th>\n",
       "      <th>Name</th>\n",
       "      <th>Address1</th>\n",
       "      <th>Address2</th>\n",
       "      <th>Address3</th>\n",
       "      <th>Address4</th>\n",
       "      <th>Eircode</th>\n",
       "      <th>Phone</th>\n",
       "      <th>Email</th>\n",
       "      <th>Website</th>\n",
       "      <th>Accessible_Access</th>\n",
       "      <th>Type</th>\n",
       "      <th>Cafe</th>\n",
       "      <th>Bar</th>\n",
       "      <th>Lat</th>\n",
       "      <th>Long</th>\n",
       "      <th>ObjectId</th>\n",
       "    </tr>\n",
       "  </thead>\n",
       "  <tbody>\n",
       "    <tr>\n",
       "      <th>0</th>\n",
       "      <td>-700184.021044</td>\n",
       "      <td>7.092158e+06</td>\n",
       "      <td>Seamus Ennis Cultural Centre</td>\n",
       "      <td>Naul</td>\n",
       "      <td>Co. Dublin</td>\n",
       "      <td>NaN</td>\n",
       "      <td>NaN</td>\n",
       "      <td>K32AY27</td>\n",
       "      <td>+353 1 8020898</td>\n",
       "      <td>info@tseac.ie</td>\n",
       "      <td>https://www.tseac.ie/</td>\n",
       "      <td>Yes</td>\n",
       "      <td>Arts Centre</td>\n",
       "      <td>Yes</td>\n",
       "      <td>No</td>\n",
       "      <td>53.586118</td>\n",
       "      <td>-6.289860</td>\n",
       "      <td>1</td>\n",
       "    </tr>\n",
       "    <tr>\n",
       "      <th>1</th>\n",
       "      <td>-680310.502230</td>\n",
       "      <td>7.090658e+06</td>\n",
       "      <td>The Little Theatre</td>\n",
       "      <td>The Old School, Skerries Community Centre</td>\n",
       "      <td>Dublin Road</td>\n",
       "      <td>Skerries</td>\n",
       "      <td>Co. Dublin</td>\n",
       "      <td>K34FX61</td>\n",
       "      <td>087 2424324</td>\n",
       "      <td>karenmvpower@gmail.com</td>\n",
       "      <td>http://skerriestheatregroup.ie/</td>\n",
       "      <td>Yes</td>\n",
       "      <td>Theatre</td>\n",
       "      <td>No</td>\n",
       "      <td>No</td>\n",
       "      <td>53.578115</td>\n",
       "      <td>-6.111333</td>\n",
       "      <td>2</td>\n",
       "    </tr>\n",
       "    <tr>\n",
       "      <th>2</th>\n",
       "      <td>-679373.452494</td>\n",
       "      <td>7.080124e+06</td>\n",
       "      <td>Millbank Theatre</td>\n",
       "      <td>Chapel Green</td>\n",
       "      <td>Rush</td>\n",
       "      <td>Co. Dublin</td>\n",
       "      <td>NaN</td>\n",
       "      <td>K56W942</td>\n",
       "      <td>+353 1 8437475</td>\n",
       "      <td>manager@millbanktheatre.com</td>\n",
       "      <td>http://www.millbanktheatre.com</td>\n",
       "      <td>Yes</td>\n",
       "      <td>Theatre</td>\n",
       "      <td>No</td>\n",
       "      <td>Yes</td>\n",
       "      <td>53.521895</td>\n",
       "      <td>-6.102916</td>\n",
       "      <td>3</td>\n",
       "    </tr>\n",
       "    <tr>\n",
       "      <th>3</th>\n",
       "      <td>-711519.977116</td>\n",
       "      <td>7.055681e+06</td>\n",
       "      <td>Draiocht Arts Centre</td>\n",
       "      <td>Blanchardstown Centre</td>\n",
       "      <td>Blanchardstown</td>\n",
       "      <td>Dublin 15</td>\n",
       "      <td>NaN</td>\n",
       "      <td>D15RYX6</td>\n",
       "      <td>+353 1 8852610</td>\n",
       "      <td>marketing@draiocht.ie</td>\n",
       "      <td>http://www.draiocht.ie</td>\n",
       "      <td>Yes</td>\n",
       "      <td>Arts Centre</td>\n",
       "      <td>Yes</td>\n",
       "      <td>Yes</td>\n",
       "      <td>53.391152</td>\n",
       "      <td>-6.391693</td>\n",
       "      <td>4</td>\n",
       "    </tr>\n",
       "  </tbody>\n",
       "</table>\n",
       "</div>"
      ],
      "text/plain": [
       "               X             Y                          Name  \\\n",
       "0 -700184.021044  7.092158e+06  Seamus Ennis Cultural Centre   \n",
       "1 -680310.502230  7.090658e+06            The Little Theatre   \n",
       "2 -679373.452494  7.080124e+06              Millbank Theatre   \n",
       "3 -711519.977116  7.055681e+06          Draiocht Arts Centre   \n",
       "\n",
       "                                    Address1        Address2    Address3  \\\n",
       "0                                       Naul      Co. Dublin         NaN   \n",
       "1  The Old School, Skerries Community Centre     Dublin Road    Skerries   \n",
       "2                               Chapel Green            Rush  Co. Dublin   \n",
       "3                      Blanchardstown Centre  Blanchardstown   Dublin 15   \n",
       "\n",
       "     Address4  Eircode           Phone                        Email  \\\n",
       "0         NaN  K32AY27  +353 1 8020898                info@tseac.ie   \n",
       "1  Co. Dublin  K34FX61     087 2424324       karenmvpower@gmail.com   \n",
       "2         NaN  K56W942  +353 1 8437475  manager@millbanktheatre.com   \n",
       "3         NaN  D15RYX6  +353 1 8852610        marketing@draiocht.ie   \n",
       "\n",
       "                           Website Accessible_Access         Type Cafe  Bar  \\\n",
       "0            https://www.tseac.ie/               Yes  Arts Centre  Yes   No   \n",
       "1  http://skerriestheatregroup.ie/               Yes      Theatre   No   No   \n",
       "2   http://www.millbanktheatre.com               Yes      Theatre   No  Yes   \n",
       "3           http://www.draiocht.ie               Yes  Arts Centre  Yes  Yes   \n",
       "\n",
       "         Lat      Long  ObjectId  \n",
       "0  53.586118 -6.289860         1  \n",
       "1  53.578115 -6.111333         2  \n",
       "2  53.521895 -6.102916         3  \n",
       "3  53.391152 -6.391693         4  "
      ]
     },
     "execution_count": 10,
     "metadata": {},
     "output_type": "execute_result"
    }
   ],
   "source": [
    "import pandas\n",
    "\n",
    "df = pandas.read_csv('./Arts_and_Theatre_Centers_FCC.csv')\n",
    "\n",
    "df"
   ]
  }
 ],
 "metadata": {
  "kernelspec": {
   "display_name": "Python 3 (ipykernel)",
   "language": "python",
   "name": "python3"
  },
  "language_info": {
   "codemirror_mode": {
    "name": "ipython",
    "version": 3
   },
   "file_extension": ".py",
   "mimetype": "text/x-python",
   "name": "python",
   "nbconvert_exporter": "python",
   "pygments_lexer": "ipython3",
   "version": "3.12.4"
  }
 },
 "nbformat": 4,
 "nbformat_minor": 5
}
