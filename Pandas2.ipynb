{
 "cells": [
  {
   "cell_type": "markdown",
   "id": "2d248259-d76c-479c-a8d7-8df7f050c372",
   "metadata": {},
   "source": [
    "**Task:**"
   ]
  },
  {
   "cell_type": "markdown",
   "id": "0d7c2d57-65b7-4474-adb8-6f5bcfe4dac4",
   "metadata": {},
   "source": [
    "**1. We are given a DataFrame\n",
    "2. We want to filter it by student_id = 101\n",
    "3. We want to return the columns name and age**"
   ]
  },
  {
   "cell_type": "code",
   "execution_count": 16,
   "id": "4c860e19-3ee3-4dd6-bba5-4d6529c374da",
   "metadata": {},
   "outputs": [],
   "source": [
    "import pandas as pd"
   ]
  },
  {
   "cell_type": "code",
   "execution_count": 27,
   "id": "98785817-00d6-43a9-abb9-79c2cb36adb5",
   "metadata": {},
   "outputs": [],
   "source": [
    "student_data = [\n",
    "    (101, \"Ulysses\", 13),\n",
    "    (53, \"William\" ,10),\n",
    "    (128, \"Henry\" ,6),\n",
    "    (3, \"John\" ,11)\n",
    "]"
   ]
  },
  {
   "cell_type": "code",
   "execution_count": 29,
   "id": "107c099a-a9ea-4115-887c-073f79d1654f",
   "metadata": {},
   "outputs": [],
   "source": [
    "student_data_columns = [\"student_id\" , \"name\" , \"age\"] "
   ]
  },
  {
   "cell_type": "code",
   "execution_count": 31,
   "id": "6b1affbf-878c-4ffe-805d-7a63b90c9f03",
   "metadata": {},
   "outputs": [],
   "source": [
    "df = pd.DataFrame(data=student_data, columns=student_data_columns)"
   ]
  },
  {
   "cell_type": "markdown",
   "id": "975743c6-7ce9-40dc-b024-bc2bea5cdd18",
   "metadata": {},
   "source": [
    "**To select a specific column from our df. we can do: df [\"name of column\"]**"
   ]
  },
  {
   "cell_type": "code",
   "execution_count": 34,
   "id": "931a75bb-871e-40ed-bc62-7a9235ed3110",
   "metadata": {},
   "outputs": [
    {
     "data": {
      "text/html": [
       "<div>\n",
       "<style scoped>\n",
       "    .dataframe tbody tr th:only-of-type {\n",
       "        vertical-align: middle;\n",
       "    }\n",
       "\n",
       "    .dataframe tbody tr th {\n",
       "        vertical-align: top;\n",
       "    }\n",
       "\n",
       "    .dataframe thead th {\n",
       "        text-align: right;\n",
       "    }\n",
       "</style>\n",
       "<table border=\"1\" class=\"dataframe\">\n",
       "  <thead>\n",
       "    <tr style=\"text-align: right;\">\n",
       "      <th></th>\n",
       "      <th>student_id</th>\n",
       "      <th>name</th>\n",
       "      <th>age</th>\n",
       "    </tr>\n",
       "  </thead>\n",
       "  <tbody>\n",
       "    <tr>\n",
       "      <th>0</th>\n",
       "      <td>101</td>\n",
       "      <td>Ulysses</td>\n",
       "      <td>13</td>\n",
       "    </tr>\n",
       "    <tr>\n",
       "      <th>1</th>\n",
       "      <td>53</td>\n",
       "      <td>William</td>\n",
       "      <td>10</td>\n",
       "    </tr>\n",
       "    <tr>\n",
       "      <th>2</th>\n",
       "      <td>128</td>\n",
       "      <td>Henry</td>\n",
       "      <td>6</td>\n",
       "    </tr>\n",
       "    <tr>\n",
       "      <th>3</th>\n",
       "      <td>3</td>\n",
       "      <td>John</td>\n",
       "      <td>11</td>\n",
       "    </tr>\n",
       "  </tbody>\n",
       "</table>\n",
       "</div>"
      ],
      "text/plain": [
       "   student_id     name  age\n",
       "0         101  Ulysses   13\n",
       "1          53  William   10\n",
       "2         128    Henry    6\n",
       "3           3     John   11"
      ]
     },
     "execution_count": 34,
     "metadata": {},
     "output_type": "execute_result"
    }
   ],
   "source": [
    "df"
   ]
  },
  {
   "cell_type": "code",
   "execution_count": null,
   "id": "73b1ab12-b745-4619-9c18-e9875fbc5016",
   "metadata": {},
   "outputs": [],
   "source": []
  }
 ],
 "metadata": {
  "kernelspec": {
   "display_name": "Python 3 (ipykernel)",
   "language": "python",
   "name": "python3"
  },
  "language_info": {
   "codemirror_mode": {
    "name": "ipython",
    "version": 3
   },
   "file_extension": ".py",
   "mimetype": "text/x-python",
   "name": "python",
   "nbconvert_exporter": "python",
   "pygments_lexer": "ipython3",
   "version": "3.12.4"
  }
 },
 "nbformat": 4,
 "nbformat_minor": 5
}
