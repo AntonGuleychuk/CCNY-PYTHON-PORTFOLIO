{
 "cells": [
  {
   "cell_type": "markdown",
   "id": "b93f4789",
   "metadata": {},
   "source": [
    "# Assignment #2: Data Exploration\n",
    "\n",
    "In this assignment, you will demonstrate your knowledge of the Python and Pandas skills we've learned so far. These include:\n",
    "\n",
    "- Getting an overview of your data\n",
    "- Extracting columns\n",
    "- Removing duplicates from your data\n",
    "- Creating a subset of your data by matching a string\n",
    "- Getting a random sample of your data\n",
    "- Sorting your data \n",
    "- Getting fundamental statistical information of a series, such as the mean and median\n",
    "\n",
    "You will not need to formulate or answer a research question for this assignment. You simply need to demonstrate your ability to perform specific operations on the data set you have selected. In the next assignment, your midterm, you will create a narrative exploration of the data using many of the same methods, but in such a way as to use narrative along with data analysis to answer a research question.\n",
    "\n",
    "You may use the data set you imported in assignment #1, or you may choose another data set. That means that you can reuse code you wrote in Assignment #1 to import the data.\n",
    "\n",
    "In the below notebook, I will ask for you to perform a task. Each task will be followed by one or more blank code cells. Use as many cells as you need to complete the task. If you know some other way to complete the task with Python and/or Pandas that is not the way we learned in class, that is also acceptable. Feel free to use Google searches to refresh your memory as to how to perform each task. You will also likely wish to consult the class notebooks, which can be found in [our class repository on GitHub](https://github.com/sha256rma/foundations-of-data-science).\n",
    "\n",
    "If your data set does not have a needed form of data for a task, write code that would perform the task if a column with that data existed, and provide an explanation as a comment or markdown cell.\n",
    "\n",
    "You may receive partial credit for some incomplete or incorrect answers. Please feel free to add comments about your thought process, which will make it more likely that you will receive partial credit.\n",
    "\n",
    "The last cell is a bonus. You will not be penalized for not attempting or completing it.\n",
    "\n",
    "-----"
   ]
  },
  {
   "cell_type": "markdown",
   "id": "b6c9f739-372f-496a-8892-7a8dab019e45",
   "metadata": {},
   "source": [
    "Import Pandas and read your data in as a data frame. Assign the data frame to a variable, such as `df`."
   ]
  },
  {
   "cell_type": "markdown",
   "id": "a24891c9",
   "metadata": {},
   "source": [
    "Make the data frame visible by placing the data frame variable in a cell by itself."
   ]
  },
  {
   "cell_type": "code",
   "execution_count": 10,
   "id": "bf198c8b",
   "metadata": {},
   "outputs": [],
   "source": [
    "import pandas as pd"
   ]
  },
  {
   "cell_type": "code",
   "execution_count": 126,
   "id": "0fe662e2-8a87-4783-9bb1-0e761c7eddf4",
   "metadata": {},
   "outputs": [
    {
     "data": {
      "text/html": [
       "<div>\n",
       "<style scoped>\n",
       "    .dataframe tbody tr th:only-of-type {\n",
       "        vertical-align: middle;\n",
       "    }\n",
       "\n",
       "    .dataframe tbody tr th {\n",
       "        vertical-align: top;\n",
       "    }\n",
       "\n",
       "    .dataframe thead th {\n",
       "        text-align: right;\n",
       "    }\n",
       "</style>\n",
       "<table border=\"1\" class=\"dataframe\">\n",
       "  <thead>\n",
       "    <tr style=\"text-align: right;\">\n",
       "      <th></th>\n",
       "      <th>location_id</th>\n",
       "      <th>region</th>\n",
       "      <th>country</th>\n",
       "      <th>population</th>\n",
       "      <th>density</th>\n",
       "    </tr>\n",
       "  </thead>\n",
       "  <tbody>\n",
       "    <tr>\n",
       "      <th>0</th>\n",
       "      <td>101</td>\n",
       "      <td>Northland</td>\n",
       "      <td>New Zealand</td>\n",
       "      <td>201,500</td>\n",
       "      <td>16.11</td>\n",
       "    </tr>\n",
       "    <tr>\n",
       "      <th>1</th>\n",
       "      <td>102</td>\n",
       "      <td>Auckland</td>\n",
       "      <td>New Zealand</td>\n",
       "      <td>1,695,200</td>\n",
       "      <td>343.09</td>\n",
       "    </tr>\n",
       "    <tr>\n",
       "      <th>2</th>\n",
       "      <td>103</td>\n",
       "      <td>Waikato</td>\n",
       "      <td>New Zealand</td>\n",
       "      <td>513,800</td>\n",
       "      <td>21.50</td>\n",
       "    </tr>\n",
       "    <tr>\n",
       "      <th>3</th>\n",
       "      <td>104</td>\n",
       "      <td>Bay of Plenty</td>\n",
       "      <td>New Zealand</td>\n",
       "      <td>347,700</td>\n",
       "      <td>28.80</td>\n",
       "    </tr>\n",
       "    <tr>\n",
       "      <th>4</th>\n",
       "      <td>105</td>\n",
       "      <td>Gisborne</td>\n",
       "      <td>New Zealand</td>\n",
       "      <td>52,100</td>\n",
       "      <td>6.21</td>\n",
       "    </tr>\n",
       "    <tr>\n",
       "      <th>5</th>\n",
       "      <td>106</td>\n",
       "      <td>Hawke's Bay</td>\n",
       "      <td>New Zealand</td>\n",
       "      <td>182,700</td>\n",
       "      <td>12.92</td>\n",
       "    </tr>\n",
       "    <tr>\n",
       "      <th>6</th>\n",
       "      <td>107</td>\n",
       "      <td>Taranaki</td>\n",
       "      <td>New Zealand</td>\n",
       "      <td>127,300</td>\n",
       "      <td>17.55</td>\n",
       "    </tr>\n",
       "    <tr>\n",
       "      <th>7</th>\n",
       "      <td>108</td>\n",
       "      <td>Manawatū-Whanganui</td>\n",
       "      <td>New Zealand</td>\n",
       "      <td>258,200</td>\n",
       "      <td>11.62</td>\n",
       "    </tr>\n",
       "    <tr>\n",
       "      <th>8</th>\n",
       "      <td>109</td>\n",
       "      <td>Wellington</td>\n",
       "      <td>New Zealand</td>\n",
       "      <td>543,500</td>\n",
       "      <td>67.52</td>\n",
       "    </tr>\n",
       "    <tr>\n",
       "      <th>9</th>\n",
       "      <td>110</td>\n",
       "      <td>Tasman</td>\n",
       "      <td>New Zealand</td>\n",
       "      <td>58,700</td>\n",
       "      <td>6.10</td>\n",
       "    </tr>\n",
       "    <tr>\n",
       "      <th>10</th>\n",
       "      <td>111</td>\n",
       "      <td>Nelson</td>\n",
       "      <td>New Zealand</td>\n",
       "      <td>54,500</td>\n",
       "      <td>129.15</td>\n",
       "    </tr>\n",
       "    <tr>\n",
       "      <th>11</th>\n",
       "      <td>112</td>\n",
       "      <td>Marlborough</td>\n",
       "      <td>New Zealand</td>\n",
       "      <td>51,900</td>\n",
       "      <td>4.94</td>\n",
       "    </tr>\n",
       "    <tr>\n",
       "      <th>12</th>\n",
       "      <td>113</td>\n",
       "      <td>West Coast</td>\n",
       "      <td>New Zealand</td>\n",
       "      <td>32,700</td>\n",
       "      <td>1.41</td>\n",
       "    </tr>\n",
       "    <tr>\n",
       "      <th>13</th>\n",
       "      <td>114</td>\n",
       "      <td>Canterbury</td>\n",
       "      <td>New Zealand</td>\n",
       "      <td>655,000</td>\n",
       "      <td>14.72</td>\n",
       "    </tr>\n",
       "    <tr>\n",
       "      <th>14</th>\n",
       "      <td>115</td>\n",
       "      <td>Otago</td>\n",
       "      <td>New Zealand</td>\n",
       "      <td>246,000</td>\n",
       "      <td>7.89</td>\n",
       "    </tr>\n",
       "    <tr>\n",
       "      <th>15</th>\n",
       "      <td>116</td>\n",
       "      <td>Southland</td>\n",
       "      <td>New Zealand</td>\n",
       "      <td>102,400</td>\n",
       "      <td>3.28</td>\n",
       "    </tr>\n",
       "  </tbody>\n",
       "</table>\n",
       "</div>"
      ],
      "text/plain": [
       "    location_id              region      country population  density\n",
       "0           101           Northland  New Zealand    201,500    16.11\n",
       "1           102            Auckland  New Zealand  1,695,200   343.09\n",
       "2           103             Waikato  New Zealand    513,800    21.50\n",
       "3           104       Bay of Plenty  New Zealand    347,700    28.80\n",
       "4           105            Gisborne  New Zealand     52,100     6.21\n",
       "5           106         Hawke's Bay  New Zealand    182,700    12.92\n",
       "6           107            Taranaki  New Zealand    127,300    17.55\n",
       "7           108  Manawatū-Whanganui  New Zealand    258,200    11.62\n",
       "8           109          Wellington  New Zealand    543,500    67.52\n",
       "9           110              Tasman  New Zealand     58,700     6.10\n",
       "10          111              Nelson  New Zealand     54,500   129.15\n",
       "11          112         Marlborough  New Zealand     51,900     4.94\n",
       "12          113          West Coast  New Zealand     32,700     1.41\n",
       "13          114          Canterbury  New Zealand    655,000    14.72\n",
       "14          115               Otago  New Zealand    246,000     7.89\n",
       "15          116           Southland  New Zealand    102,400     3.28"
      ]
     },
     "execution_count": 126,
     "metadata": {},
     "output_type": "execute_result"
    }
   ],
   "source": [
    "import pandas\n",
    "\n",
    "df = pandas.read_csv('./Car Theft Locations.csv')\n",
    "\n",
    "df"
   ]
  },
  {
   "cell_type": "markdown",
   "id": "2bb0ff5d",
   "metadata": {},
   "source": [
    "What columns are in your data frame? Use a function or method that shows all the columns."
   ]
  },
  {
   "cell_type": "code",
   "execution_count": 129,
   "id": "b77893d4-adf4-43b3-a1b8-fe1aeacc5d62",
   "metadata": {},
   "outputs": [
    {
     "data": {
      "text/html": [
       "<div>\n",
       "<style scoped>\n",
       "    .dataframe tbody tr th:only-of-type {\n",
       "        vertical-align: middle;\n",
       "    }\n",
       "\n",
       "    .dataframe tbody tr th {\n",
       "        vertical-align: top;\n",
       "    }\n",
       "\n",
       "    .dataframe thead th {\n",
       "        text-align: right;\n",
       "    }\n",
       "</style>\n",
       "<table border=\"1\" class=\"dataframe\">\n",
       "  <thead>\n",
       "    <tr style=\"text-align: right;\">\n",
       "      <th></th>\n",
       "      <th>location_id</th>\n",
       "      <th>region</th>\n",
       "      <th>country</th>\n",
       "      <th>population</th>\n",
       "      <th>density</th>\n",
       "    </tr>\n",
       "  </thead>\n",
       "  <tbody>\n",
       "  </tbody>\n",
       "</table>\n",
       "</div>"
      ],
      "text/plain": [
       "Empty DataFrame\n",
       "Columns: [location_id, region, country, population, density]\n",
       "Index: []"
      ]
     },
     "execution_count": 129,
     "metadata": {},
     "output_type": "execute_result"
    }
   ],
   "source": [
    "df.iloc[0:0]"
   ]
  },
  {
   "cell_type": "markdown",
   "id": "11176b30-269a-45c6-9916-6d83aa426ea2",
   "metadata": {},
   "source": [
    "Write Python code to output the number of rows in your data frame."
   ]
  },
  {
   "cell_type": "code",
   "execution_count": 132,
   "id": "6323742f",
   "metadata": {},
   "outputs": [],
   "source": [
    "row_count = len(df)"
   ]
  },
  {
   "cell_type": "code",
   "execution_count": 134,
   "id": "e6b47ff0-5318-4be8-9224-3cc84023c31a",
   "metadata": {},
   "outputs": [
    {
     "name": "stdout",
     "output_type": "stream",
     "text": [
      "16\n"
     ]
    }
   ],
   "source": [
    "print(row_count)"
   ]
  },
  {
   "cell_type": "markdown",
   "id": "e8644b85",
   "metadata": {},
   "source": [
    "Write code to output a column from your data frame as a series. (Extract a column.)"
   ]
  },
  {
   "cell_type": "code",
   "execution_count": 137,
   "id": "5d72c8b4-aa07-4da8-bd00-2142b5c69bf9",
   "metadata": {},
   "outputs": [],
   "source": [
    "name_column = df[\"location_id\"]"
   ]
  },
  {
   "cell_type": "code",
   "execution_count": 139,
   "id": "da4ca19e",
   "metadata": {},
   "outputs": [
    {
     "name": "stdout",
     "output_type": "stream",
     "text": [
      "0     101\n",
      "1     102\n",
      "2     103\n",
      "3     104\n",
      "4     105\n",
      "5     106\n",
      "6     107\n",
      "7     108\n",
      "8     109\n",
      "9     110\n",
      "10    111\n",
      "11    112\n",
      "12    113\n",
      "13    114\n",
      "14    115\n",
      "15    116\n",
      "Name: location_id, dtype: int64\n"
     ]
    }
   ],
   "source": [
    "print(name_column)"
   ]
  },
  {
   "cell_type": "markdown",
   "id": "af635ed6",
   "metadata": {},
   "source": [
    "### Read the example below to **count** duplicates based on specific columns (e.g., 'Name' and 'Age')\n",
    "\n",
    "Check duplicates based on 'Name' and 'Age' columns (modify the subset for your own columns):\n",
    "\n",
    "`duplicates_subset = df.duplicated(subset=['Name', 'Age'])`\n",
    "\n",
    "Count the number of duplicates in the subset:\n",
    "\n",
    "`num_duplicates_subset = duplicates_subset.sum()`\n",
    "\n",
    "Display no. of duplicate rows based on your column(s):\n",
    "\n",
    "`print(f\"\\nNumber of duplicate rows based on 'Name' and 'Age': {num_duplicates_subset}\")`\n"
   ]
  },
  {
   "cell_type": "markdown",
   "id": "d8b3bfe9",
   "metadata": {},
   "source": [
    "After reading the above, modify the code snippets to check for duplicate columns in your own data frame"
   ]
  },
  {
   "cell_type": "code",
   "execution_count": 126,
   "id": "eb117305-b1c5-4c58-9276-3d32ed91be5a",
   "metadata": {},
   "outputs": [
    {
     "data": {
      "text/html": [
       "<div>\n",
       "<style scoped>\n",
       "    .dataframe tbody tr th:only-of-type {\n",
       "        vertical-align: middle;\n",
       "    }\n",
       "\n",
       "    .dataframe tbody tr th {\n",
       "        vertical-align: top;\n",
       "    }\n",
       "\n",
       "    .dataframe thead th {\n",
       "        text-align: right;\n",
       "    }\n",
       "</style>\n",
       "<table border=\"1\" class=\"dataframe\">\n",
       "  <thead>\n",
       "    <tr style=\"text-align: right;\">\n",
       "      <th></th>\n",
       "      <th>location_id</th>\n",
       "      <th>region</th>\n",
       "      <th>country</th>\n",
       "      <th>population</th>\n",
       "      <th>density</th>\n",
       "    </tr>\n",
       "  </thead>\n",
       "  <tbody>\n",
       "    <tr>\n",
       "      <th>0</th>\n",
       "      <td>101</td>\n",
       "      <td>Northland</td>\n",
       "      <td>New Zealand</td>\n",
       "      <td>201,500</td>\n",
       "      <td>16.11</td>\n",
       "    </tr>\n",
       "    <tr>\n",
       "      <th>1</th>\n",
       "      <td>102</td>\n",
       "      <td>Auckland</td>\n",
       "      <td>New Zealand</td>\n",
       "      <td>1,695,200</td>\n",
       "      <td>343.09</td>\n",
       "    </tr>\n",
       "    <tr>\n",
       "      <th>2</th>\n",
       "      <td>103</td>\n",
       "      <td>Waikato</td>\n",
       "      <td>New Zealand</td>\n",
       "      <td>513,800</td>\n",
       "      <td>21.50</td>\n",
       "    </tr>\n",
       "    <tr>\n",
       "      <th>3</th>\n",
       "      <td>104</td>\n",
       "      <td>Bay of Plenty</td>\n",
       "      <td>New Zealand</td>\n",
       "      <td>347,700</td>\n",
       "      <td>28.80</td>\n",
       "    </tr>\n",
       "    <tr>\n",
       "      <th>4</th>\n",
       "      <td>105</td>\n",
       "      <td>Gisborne</td>\n",
       "      <td>New Zealand</td>\n",
       "      <td>52,100</td>\n",
       "      <td>6.21</td>\n",
       "    </tr>\n",
       "    <tr>\n",
       "      <th>5</th>\n",
       "      <td>106</td>\n",
       "      <td>Hawke's Bay</td>\n",
       "      <td>New Zealand</td>\n",
       "      <td>182,700</td>\n",
       "      <td>12.92</td>\n",
       "    </tr>\n",
       "    <tr>\n",
       "      <th>6</th>\n",
       "      <td>107</td>\n",
       "      <td>Taranaki</td>\n",
       "      <td>New Zealand</td>\n",
       "      <td>127,300</td>\n",
       "      <td>17.55</td>\n",
       "    </tr>\n",
       "    <tr>\n",
       "      <th>7</th>\n",
       "      <td>108</td>\n",
       "      <td>Manawatū-Whanganui</td>\n",
       "      <td>New Zealand</td>\n",
       "      <td>258,200</td>\n",
       "      <td>11.62</td>\n",
       "    </tr>\n",
       "    <tr>\n",
       "      <th>8</th>\n",
       "      <td>109</td>\n",
       "      <td>Wellington</td>\n",
       "      <td>New Zealand</td>\n",
       "      <td>543,500</td>\n",
       "      <td>67.52</td>\n",
       "    </tr>\n",
       "    <tr>\n",
       "      <th>9</th>\n",
       "      <td>110</td>\n",
       "      <td>Tasman</td>\n",
       "      <td>New Zealand</td>\n",
       "      <td>58,700</td>\n",
       "      <td>6.10</td>\n",
       "    </tr>\n",
       "    <tr>\n",
       "      <th>10</th>\n",
       "      <td>111</td>\n",
       "      <td>Nelson</td>\n",
       "      <td>New Zealand</td>\n",
       "      <td>54,500</td>\n",
       "      <td>129.15</td>\n",
       "    </tr>\n",
       "    <tr>\n",
       "      <th>11</th>\n",
       "      <td>112</td>\n",
       "      <td>Marlborough</td>\n",
       "      <td>New Zealand</td>\n",
       "      <td>51,900</td>\n",
       "      <td>4.94</td>\n",
       "    </tr>\n",
       "    <tr>\n",
       "      <th>12</th>\n",
       "      <td>113</td>\n",
       "      <td>West Coast</td>\n",
       "      <td>New Zealand</td>\n",
       "      <td>32,700</td>\n",
       "      <td>1.41</td>\n",
       "    </tr>\n",
       "    <tr>\n",
       "      <th>13</th>\n",
       "      <td>114</td>\n",
       "      <td>Canterbury</td>\n",
       "      <td>New Zealand</td>\n",
       "      <td>655,000</td>\n",
       "      <td>14.72</td>\n",
       "    </tr>\n",
       "    <tr>\n",
       "      <th>14</th>\n",
       "      <td>115</td>\n",
       "      <td>Otago</td>\n",
       "      <td>New Zealand</td>\n",
       "      <td>246,000</td>\n",
       "      <td>7.89</td>\n",
       "    </tr>\n",
       "    <tr>\n",
       "      <th>15</th>\n",
       "      <td>116</td>\n",
       "      <td>Southland</td>\n",
       "      <td>New Zealand</td>\n",
       "      <td>102,400</td>\n",
       "      <td>3.28</td>\n",
       "    </tr>\n",
       "  </tbody>\n",
       "</table>\n",
       "</div>"
      ],
      "text/plain": [
       "    location_id              region      country population  density\n",
       "0           101           Northland  New Zealand    201,500    16.11\n",
       "1           102            Auckland  New Zealand  1,695,200   343.09\n",
       "2           103             Waikato  New Zealand    513,800    21.50\n",
       "3           104       Bay of Plenty  New Zealand    347,700    28.80\n",
       "4           105            Gisborne  New Zealand     52,100     6.21\n",
       "5           106         Hawke's Bay  New Zealand    182,700    12.92\n",
       "6           107            Taranaki  New Zealand    127,300    17.55\n",
       "7           108  Manawatū-Whanganui  New Zealand    258,200    11.62\n",
       "8           109          Wellington  New Zealand    543,500    67.52\n",
       "9           110              Tasman  New Zealand     58,700     6.10\n",
       "10          111              Nelson  New Zealand     54,500   129.15\n",
       "11          112         Marlborough  New Zealand     51,900     4.94\n",
       "12          113          West Coast  New Zealand     32,700     1.41\n",
       "13          114          Canterbury  New Zealand    655,000    14.72\n",
       "14          115               Otago  New Zealand    246,000     7.89\n",
       "15          116           Southland  New Zealand    102,400     3.28"
      ]
     },
     "execution_count": 126,
     "metadata": {},
     "output_type": "execute_result"
    }
   ],
   "source": [
    "import pandas\n",
    "\n",
    "df = pandas.read_csv('./Car Theft Locations.csv')\n",
    "\n",
    "df"
   ]
  },
  {
   "cell_type": "code",
   "execution_count": 270,
   "id": "8cf0f9d8",
   "metadata": {},
   "outputs": [],
   "source": [
    "duplicates_subset = df.duplicated(subset=[\"location_id\", \"country\"])"
   ]
  },
  {
   "cell_type": "code",
   "execution_count": 272,
   "id": "54ac354a-095b-4056-b990-2c6080f975ac",
   "metadata": {},
   "outputs": [
    {
     "name": "stdout",
     "output_type": "stream",
     "text": [
      "0     False\n",
      "1     False\n",
      "2     False\n",
      "3     False\n",
      "4     False\n",
      "5     False\n",
      "6     False\n",
      "7     False\n",
      "8     False\n",
      "9     False\n",
      "10    False\n",
      "11    False\n",
      "12    False\n",
      "13    False\n",
      "14    False\n",
      "15    False\n",
      "dtype: bool\n"
     ]
    }
   ],
   "source": [
    "print(duplicates_subset)"
   ]
  },
  {
   "cell_type": "code",
   "execution_count": 250,
   "id": "a6d1f7ef",
   "metadata": {},
   "outputs": [],
   "source": [
    "num_duplicates_subset = duplicates_subset.sum()"
   ]
  },
  {
   "cell_type": "code",
   "execution_count": 252,
   "id": "ef5c5743-fa3c-4f6f-9ff2-5d5c73c44d9c",
   "metadata": {},
   "outputs": [
    {
     "name": "stdout",
     "output_type": "stream",
     "text": [
      "0\n"
     ]
    }
   ],
   "source": [
    "print(num_duplicates_subset)"
   ]
  },
  {
   "cell_type": "markdown",
   "id": "0d399373-404d-494c-8654-2d7f2e9f4946",
   "metadata": {},
   "source": [
    "## (ERROR) Invalid Syntax. Perhaps you forgot a comma ??? ##"
   ]
  },
  {
   "cell_type": "code",
   "execution_count": 268,
   "id": "4d155faa",
   "metadata": {},
   "outputs": [
    {
     "ename": "SyntaxError",
     "evalue": "invalid syntax. Perhaps you forgot a comma? (1506063327.py, line 1)",
     "output_type": "error",
     "traceback": [
      "\u001b[0;36m  Cell \u001b[0;32mIn[268], line 1\u001b[0;36m\u001b[0m\n\u001b[0;31m    print(f\"\\nNumber of duplicate if rows based on \"location_id\" and \"region\": {num_duplicates_subset}\")\u001b[0m\n\u001b[0m          ^\u001b[0m\n\u001b[0;31mSyntaxError\u001b[0m\u001b[0;31m:\u001b[0m invalid syntax. Perhaps you forgot a comma?\n"
     ]
    }
   ],
   "source": [
    "print(f\"\\nNumber of duplicate if rows based on \"location_id\" and \"region\": {num_duplicates_subset}\")"
   ]
  },
  {
   "cell_type": "markdown",
   "id": "a2da032a",
   "metadata": {},
   "source": [
    "If any duplicates exist within a column, remove them with the `.drop_duplicates()` function"
   ]
  },
  {
   "cell_type": "markdown",
   "id": "75965556",
   "metadata": {},
   "source": [
    "Write Python code to output the number of rows in your data frame."
   ]
  },
  {
   "cell_type": "code",
   "execution_count": 258,
   "id": "069bb2fa",
   "metadata": {},
   "outputs": [],
   "source": [
    "num_row = len(df)"
   ]
  },
  {
   "cell_type": "code",
   "execution_count": 260,
   "id": "e9f17531-4f2e-48e8-84a4-fb2d96bb0b1a",
   "metadata": {},
   "outputs": [
    {
     "name": "stdout",
     "output_type": "stream",
     "text": [
      "16\n"
     ]
    }
   ],
   "source": [
    "print(num_row)"
   ]
  },
  {
   "cell_type": "markdown",
   "id": "4f728b70",
   "metadata": {},
   "source": [
    "Compare the new value with the first time you outputted the number of rows above. Is it more, less, or the same?"
   ]
  },
  {
   "cell_type": "markdown",
   "id": "10a47f50",
   "metadata": {},
   "source": [
    "## The value is the same. ##"
   ]
  },
  {
   "cell_type": "markdown",
   "id": "1a9df537",
   "metadata": {},
   "source": [
    "Create a subset of the data that matches a specific string in a column. That is, extract all rows of the original data frame that contain a specific string in one of the columns. Save the resulting data frame to a variable. (Add more cells if needed)"
   ]
  },
  {
   "cell_type": "code",
   "execution_count": 274,
   "id": "ff51aec3-3b48-4473-b735-301add987cde",
   "metadata": {},
   "outputs": [],
   "source": [
    "duplicates_subset = df.duplicated(subset=[\"location_id\", \"country\"])"
   ]
  },
  {
   "cell_type": "code",
   "execution_count": 277,
   "id": "06498731",
   "metadata": {},
   "outputs": [
    {
     "name": "stdout",
     "output_type": "stream",
     "text": [
      "0     False\n",
      "1     False\n",
      "2     False\n",
      "3     False\n",
      "4     False\n",
      "5     False\n",
      "6     False\n",
      "7     False\n",
      "8     False\n",
      "9     False\n",
      "10    False\n",
      "11    False\n",
      "12    False\n",
      "13    False\n",
      "14    False\n",
      "15    False\n",
      "dtype: bool\n"
     ]
    }
   ],
   "source": [
    "print(duplicates_subset)"
   ]
  },
  {
   "cell_type": "markdown",
   "id": "8ce688ed",
   "metadata": {},
   "source": [
    "Output the length of the resulting data frame (the subset of your data for which the conditional was true)."
   ]
  },
  {
   "cell_type": "markdown",
   "id": "ab9e293b-54a5-4389-9a04-c8e414ea6128",
   "metadata": {},
   "source": [
    "## All of my subset data conditions were false ##"
   ]
  },
  {
   "cell_type": "markdown",
   "id": "ad96d460",
   "metadata": {},
   "source": [
    "Output the first ten rows of your data set, the last ten rows of your data set, and a random ten rows of your data set (a sample of your data)."
   ]
  },
  {
   "cell_type": "code",
   "execution_count": 240,
   "id": "1bf71cb0",
   "metadata": {},
   "outputs": [
    {
     "data": {
      "text/html": [
       "<div>\n",
       "<style scoped>\n",
       "    .dataframe tbody tr th:only-of-type {\n",
       "        vertical-align: middle;\n",
       "    }\n",
       "\n",
       "    .dataframe tbody tr th {\n",
       "        vertical-align: top;\n",
       "    }\n",
       "\n",
       "    .dataframe thead th {\n",
       "        text-align: right;\n",
       "    }\n",
       "</style>\n",
       "<table border=\"1\" class=\"dataframe\">\n",
       "  <thead>\n",
       "    <tr style=\"text-align: right;\">\n",
       "      <th></th>\n",
       "      <th>location_id</th>\n",
       "      <th>region</th>\n",
       "      <th>country</th>\n",
       "      <th>population</th>\n",
       "      <th>density</th>\n",
       "    </tr>\n",
       "  </thead>\n",
       "  <tbody>\n",
       "    <tr>\n",
       "      <th>0</th>\n",
       "      <td>101</td>\n",
       "      <td>Northland</td>\n",
       "      <td>New Zealand</td>\n",
       "      <td>201,500</td>\n",
       "      <td>16.11</td>\n",
       "    </tr>\n",
       "    <tr>\n",
       "      <th>1</th>\n",
       "      <td>102</td>\n",
       "      <td>Auckland</td>\n",
       "      <td>New Zealand</td>\n",
       "      <td>1,695,200</td>\n",
       "      <td>343.09</td>\n",
       "    </tr>\n",
       "    <tr>\n",
       "      <th>2</th>\n",
       "      <td>103</td>\n",
       "      <td>Waikato</td>\n",
       "      <td>New Zealand</td>\n",
       "      <td>513,800</td>\n",
       "      <td>21.50</td>\n",
       "    </tr>\n",
       "    <tr>\n",
       "      <th>3</th>\n",
       "      <td>104</td>\n",
       "      <td>Bay of Plenty</td>\n",
       "      <td>New Zealand</td>\n",
       "      <td>347,700</td>\n",
       "      <td>28.80</td>\n",
       "    </tr>\n",
       "    <tr>\n",
       "      <th>4</th>\n",
       "      <td>105</td>\n",
       "      <td>Gisborne</td>\n",
       "      <td>New Zealand</td>\n",
       "      <td>52,100</td>\n",
       "      <td>6.21</td>\n",
       "    </tr>\n",
       "    <tr>\n",
       "      <th>5</th>\n",
       "      <td>106</td>\n",
       "      <td>Hawke's Bay</td>\n",
       "      <td>New Zealand</td>\n",
       "      <td>182,700</td>\n",
       "      <td>12.92</td>\n",
       "    </tr>\n",
       "    <tr>\n",
       "      <th>6</th>\n",
       "      <td>107</td>\n",
       "      <td>Taranaki</td>\n",
       "      <td>New Zealand</td>\n",
       "      <td>127,300</td>\n",
       "      <td>17.55</td>\n",
       "    </tr>\n",
       "    <tr>\n",
       "      <th>7</th>\n",
       "      <td>108</td>\n",
       "      <td>Manawatū-Whanganui</td>\n",
       "      <td>New Zealand</td>\n",
       "      <td>258,200</td>\n",
       "      <td>11.62</td>\n",
       "    </tr>\n",
       "    <tr>\n",
       "      <th>8</th>\n",
       "      <td>109</td>\n",
       "      <td>Wellington</td>\n",
       "      <td>New Zealand</td>\n",
       "      <td>543,500</td>\n",
       "      <td>67.52</td>\n",
       "    </tr>\n",
       "    <tr>\n",
       "      <th>9</th>\n",
       "      <td>110</td>\n",
       "      <td>Tasman</td>\n",
       "      <td>New Zealand</td>\n",
       "      <td>58,700</td>\n",
       "      <td>6.10</td>\n",
       "    </tr>\n",
       "  </tbody>\n",
       "</table>\n",
       "</div>"
      ],
      "text/plain": [
       "   location_id              region      country population  density\n",
       "0          101           Northland  New Zealand    201,500    16.11\n",
       "1          102            Auckland  New Zealand  1,695,200   343.09\n",
       "2          103             Waikato  New Zealand    513,800    21.50\n",
       "3          104       Bay of Plenty  New Zealand    347,700    28.80\n",
       "4          105            Gisborne  New Zealand     52,100     6.21\n",
       "5          106         Hawke's Bay  New Zealand    182,700    12.92\n",
       "6          107            Taranaki  New Zealand    127,300    17.55\n",
       "7          108  Manawatū-Whanganui  New Zealand    258,200    11.62\n",
       "8          109          Wellington  New Zealand    543,500    67.52\n",
       "9          110              Tasman  New Zealand     58,700     6.10"
      ]
     },
     "execution_count": 240,
     "metadata": {},
     "output_type": "execute_result"
    }
   ],
   "source": [
    "df.iloc[0:10]"
   ]
  },
  {
   "cell_type": "code",
   "execution_count": 238,
   "id": "59e6227f",
   "metadata": {},
   "outputs": [
    {
     "data": {
      "text/html": [
       "<div>\n",
       "<style scoped>\n",
       "    .dataframe tbody tr th:only-of-type {\n",
       "        vertical-align: middle;\n",
       "    }\n",
       "\n",
       "    .dataframe tbody tr th {\n",
       "        vertical-align: top;\n",
       "    }\n",
       "\n",
       "    .dataframe thead th {\n",
       "        text-align: right;\n",
       "    }\n",
       "</style>\n",
       "<table border=\"1\" class=\"dataframe\">\n",
       "  <thead>\n",
       "    <tr style=\"text-align: right;\">\n",
       "      <th></th>\n",
       "      <th>location_id</th>\n",
       "      <th>region</th>\n",
       "      <th>country</th>\n",
       "      <th>population</th>\n",
       "      <th>density</th>\n",
       "    </tr>\n",
       "  </thead>\n",
       "  <tbody>\n",
       "    <tr>\n",
       "      <th>6</th>\n",
       "      <td>107</td>\n",
       "      <td>Taranaki</td>\n",
       "      <td>New Zealand</td>\n",
       "      <td>127,300</td>\n",
       "      <td>17.55</td>\n",
       "    </tr>\n",
       "    <tr>\n",
       "      <th>7</th>\n",
       "      <td>108</td>\n",
       "      <td>Manawatū-Whanganui</td>\n",
       "      <td>New Zealand</td>\n",
       "      <td>258,200</td>\n",
       "      <td>11.62</td>\n",
       "    </tr>\n",
       "    <tr>\n",
       "      <th>8</th>\n",
       "      <td>109</td>\n",
       "      <td>Wellington</td>\n",
       "      <td>New Zealand</td>\n",
       "      <td>543,500</td>\n",
       "      <td>67.52</td>\n",
       "    </tr>\n",
       "    <tr>\n",
       "      <th>9</th>\n",
       "      <td>110</td>\n",
       "      <td>Tasman</td>\n",
       "      <td>New Zealand</td>\n",
       "      <td>58,700</td>\n",
       "      <td>6.10</td>\n",
       "    </tr>\n",
       "    <tr>\n",
       "      <th>10</th>\n",
       "      <td>111</td>\n",
       "      <td>Nelson</td>\n",
       "      <td>New Zealand</td>\n",
       "      <td>54,500</td>\n",
       "      <td>129.15</td>\n",
       "    </tr>\n",
       "    <tr>\n",
       "      <th>11</th>\n",
       "      <td>112</td>\n",
       "      <td>Marlborough</td>\n",
       "      <td>New Zealand</td>\n",
       "      <td>51,900</td>\n",
       "      <td>4.94</td>\n",
       "    </tr>\n",
       "    <tr>\n",
       "      <th>12</th>\n",
       "      <td>113</td>\n",
       "      <td>West Coast</td>\n",
       "      <td>New Zealand</td>\n",
       "      <td>32,700</td>\n",
       "      <td>1.41</td>\n",
       "    </tr>\n",
       "    <tr>\n",
       "      <th>13</th>\n",
       "      <td>114</td>\n",
       "      <td>Canterbury</td>\n",
       "      <td>New Zealand</td>\n",
       "      <td>655,000</td>\n",
       "      <td>14.72</td>\n",
       "    </tr>\n",
       "    <tr>\n",
       "      <th>14</th>\n",
       "      <td>115</td>\n",
       "      <td>Otago</td>\n",
       "      <td>New Zealand</td>\n",
       "      <td>246,000</td>\n",
       "      <td>7.89</td>\n",
       "    </tr>\n",
       "    <tr>\n",
       "      <th>15</th>\n",
       "      <td>116</td>\n",
       "      <td>Southland</td>\n",
       "      <td>New Zealand</td>\n",
       "      <td>102,400</td>\n",
       "      <td>3.28</td>\n",
       "    </tr>\n",
       "  </tbody>\n",
       "</table>\n",
       "</div>"
      ],
      "text/plain": [
       "    location_id              region      country population  density\n",
       "6           107            Taranaki  New Zealand    127,300    17.55\n",
       "7           108  Manawatū-Whanganui  New Zealand    258,200    11.62\n",
       "8           109          Wellington  New Zealand    543,500    67.52\n",
       "9           110              Tasman  New Zealand     58,700     6.10\n",
       "10          111              Nelson  New Zealand     54,500   129.15\n",
       "11          112         Marlborough  New Zealand     51,900     4.94\n",
       "12          113          West Coast  New Zealand     32,700     1.41\n",
       "13          114          Canterbury  New Zealand    655,000    14.72\n",
       "14          115               Otago  New Zealand    246,000     7.89\n",
       "15          116           Southland  New Zealand    102,400     3.28"
      ]
     },
     "execution_count": 238,
     "metadata": {},
     "output_type": "execute_result"
    }
   ],
   "source": [
    "df.loc[6:17]"
   ]
  },
  {
   "cell_type": "markdown",
   "id": "7e96f519",
   "metadata": {},
   "source": [
    "## Bonus\n",
    "\n",
    "You may want to refer to the [Pandas Cheat Sheet](https://pandas.pydata.org/Pandas_Cheat_Sheet.pdf)."
   ]
  },
  {
   "cell_type": "markdown",
   "id": "4c6d9319",
   "metadata": {},
   "source": [
    "Sort your data frame by a particular column and output the result."
   ]
  },
  {
   "cell_type": "code",
   "execution_count": null,
   "id": "fab623b1",
   "metadata": {},
   "outputs": [],
   "source": []
  },
  {
   "cell_type": "code",
   "execution_count": null,
   "id": "2797159d",
   "metadata": {},
   "outputs": [],
   "source": []
  },
  {
   "cell_type": "markdown",
   "id": "4cbd44ef",
   "metadata": {},
   "source": [
    "Pick a column in your data set with numeric data (integers or floats). Output the mean (average) and median of that column."
   ]
  },
  {
   "cell_type": "code",
   "execution_count": null,
   "id": "5fcd45c6",
   "metadata": {},
   "outputs": [],
   "source": []
  }
 ],
 "metadata": {
  "kernelspec": {
   "display_name": "Python 3 (ipykernel)",
   "language": "python",
   "name": "python3"
  },
  "language_info": {
   "codemirror_mode": {
    "name": "ipython",
    "version": 3
   },
   "file_extension": ".py",
   "mimetype": "text/x-python",
   "name": "python",
   "nbconvert_exporter": "python",
   "pygments_lexer": "ipython3",
   "version": "3.12.4"
  }
 },
 "nbformat": 4,
 "nbformat_minor": 5
}
