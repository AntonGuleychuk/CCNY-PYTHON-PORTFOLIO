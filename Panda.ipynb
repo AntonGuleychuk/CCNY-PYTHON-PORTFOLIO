{
 "cells": [
  {
   "cell_type": "markdown",
   "id": "3393a92f-f6f1-4a0e-a8ad-52080eb35752",
   "metadata": {},
   "source": [
    "# We imported the pandas library"
   ]
  },
  {
   "cell_type": "code",
   "execution_count": 8,
   "id": "d9ce4f0e-f874-431f-97df-a3d6f31db465",
   "metadata": {},
   "outputs": [],
   "source": [
    "import pandas as pd"
   ]
  },
  {
   "cell_type": "markdown",
   "id": "df94cf38-aa39-420a-818e-1d7ed569f360",
   "metadata": {},
   "source": [
    "- First we create a student_data variable\n",
    "- Then we create column variable\n",
    "- Lastly, we create the students Dataframe"
   ]
  },
  {
   "cell_type": "code",
   "execution_count": 100,
   "id": "dadec054-f6ed-41e0-b974-059b3ca435a6",
   "metadata": {},
   "outputs": [],
   "source": [
    "\n",
    "student_data = [(1,1), (2,11), (3,11), (4,20)]"
   ]
  },
  {
   "cell_type": "code",
   "execution_count": 102,
   "id": "168e9fc1-1df0-405a-acf9-c10a578aeacf",
   "metadata": {},
   "outputs": [
    {
     "data": {
      "text/plain": [
       "list"
      ]
     },
     "execution_count": 102,
     "metadata": {},
     "output_type": "execute_result"
    }
   ],
   "source": [
    "type(student_data)"
   ]
  },
  {
   "cell_type": "code",
   "execution_count": 104,
   "id": "0c52c02f-ef3d-4870-abca-fd39c8da1284",
   "metadata": {},
   "outputs": [],
   "source": [
    "columns  = [\"student_id\",\"age\"]"
   ]
  },
  {
   "cell_type": "code",
   "execution_count": 106,
   "id": "340cc56f-d5ca-48ba-9bfc-4a79d7ee0186",
   "metadata": {},
   "outputs": [
    {
     "data": {
      "text/plain": [
       "list"
      ]
     },
     "execution_count": 106,
     "metadata": {},
     "output_type": "execute_result"
    }
   ],
   "source": [
    "type(columns)"
   ]
  },
  {
   "cell_type": "markdown",
   "id": "f801f0ee-0e8d-4978-b802-56ea3fe5215c",
   "metadata": {},
   "source": [
    "### students = pd.DataFrame(data=student_data, columns=columns)"
   ]
  },
  {
   "cell_type": "code",
   "execution_count": 132,
   "id": "77557287-3518-46c3-a197-781bed64aa4a",
   "metadata": {},
   "outputs": [
    {
     "data": {
      "text/html": [
       "<div>\n",
       "<style scoped>\n",
       "    .dataframe tbody tr th:only-of-type {\n",
       "        vertical-align: middle;\n",
       "    }\n",
       "\n",
       "    .dataframe tbody tr th {\n",
       "        vertical-align: top;\n",
       "    }\n",
       "\n",
       "    .dataframe thead th {\n",
       "        text-align: right;\n",
       "    }\n",
       "</style>\n",
       "<table border=\"1\" class=\"dataframe\">\n",
       "  <thead>\n",
       "    <tr style=\"text-align: right;\">\n",
       "      <th></th>\n",
       "      <th>student_id</th>\n",
       "      <th>age</th>\n",
       "    </tr>\n",
       "  </thead>\n",
       "  <tbody>\n",
       "    <tr>\n",
       "      <th>0</th>\n",
       "      <td>1</td>\n",
       "      <td>1</td>\n",
       "    </tr>\n",
       "    <tr>\n",
       "      <th>1</th>\n",
       "      <td>2</td>\n",
       "      <td>11</td>\n",
       "    </tr>\n",
       "    <tr>\n",
       "      <th>2</th>\n",
       "      <td>3</td>\n",
       "      <td>11</td>\n",
       "    </tr>\n",
       "    <tr>\n",
       "      <th>3</th>\n",
       "      <td>4</td>\n",
       "      <td>20</td>\n",
       "    </tr>\n",
       "  </tbody>\n",
       "</table>\n",
       "</div>"
      ],
      "text/plain": [
       "   student_id  age\n",
       "0           1    1\n",
       "1           2   11\n",
       "2           3   11\n",
       "3           4   20"
      ]
     },
     "execution_count": 132,
     "metadata": {},
     "output_type": "execute_result"
    }
   ],
   "source": [
    "students"
   ]
  },
  {
   "cell_type": "markdown",
   "id": "c4341ef5-8da0-44c3-a0f5-8d29834db74b",
   "metadata": {},
   "source": [
    "## We are now going to count how many rows abd columns our dataset has..."
   ]
  },
  {
   "cell_type": "code",
   "execution_count": 159,
   "id": "4a10b2ee-7397-4633-aede-741a414db047",
   "metadata": {},
   "outputs": [],
   "source": [
    "rows = len(students) # len is a function that returns the \n",
    "                     # length of what's inside"
   ]
  },
  {
   "cell_type": "code",
   "execution_count": 157,
   "id": "9bc738e0-79a9-4a76-8470-e18a424eaf86",
   "metadata": {},
   "outputs": [
    {
     "name": "stdout",
     "output_type": "stream",
     "text": [
      "The students data has 4 rows\n"
     ]
    }
   ],
   "source": [
    "print (f\"The students data has {rows} rows\")"
   ]
  },
  {
   "cell_type": "code",
   "execution_count": 137,
   "id": "642c97a8-14fe-44b3-80c3-7f99c33b4272",
   "metadata": {},
   "outputs": [
    {
     "data": {
      "text/plain": [
       "pandas.core.frame.DataFrame"
      ]
     },
     "execution_count": 137,
     "metadata": {},
     "output_type": "execute_result"
    }
   ],
   "source": [
    "type(students)"
   ]
  },
  {
   "cell_type": "code",
   "execution_count": 141,
   "id": "3fd05ebb-50bf-4381-8c6a-e4de450082b4",
   "metadata": {},
   "outputs": [],
   "source": [
    "students_columns = len(students.columns)"
   ]
  },
  {
   "cell_type": "code",
   "execution_count": 149,
   "id": "8e420c98-770a-44c0-9c12-74398480e2f8",
   "metadata": {},
   "outputs": [
    {
     "name": "stdout",
     "output_type": "stream",
     "text": [
      "The student dataset has 2 columns\n"
     ]
    }
   ],
   "source": [
    "print(f\"The student dataset has {students_columns} columns\")"
   ]
  },
  {
   "cell_type": "markdown",
   "id": "081624c8-30fe-4d84-8d93-617a1fb0acfe",
   "metadata": {},
   "source": [
    "## Print out the fisrt 3 rows of the studnets dataframe..."
   ]
  },
  {
   "cell_type": "markdown",
   "id": "ba131697-e0c5-4542-a763-0639009f6dc6",
   "metadata": {},
   "source": [
    "panda has a function called \".head(x)\" which prints out the fisrt x rows of your DataFrame"
   ]
  },
  {
   "cell_type": "code",
   "execution_count": 170,
   "id": "0e6e4f55-30d6-4f51-84ee-a1dbc04bdfa3",
   "metadata": {},
   "outputs": [
    {
     "data": {
      "text/html": [
       "<div>\n",
       "<style scoped>\n",
       "    .dataframe tbody tr th:only-of-type {\n",
       "        vertical-align: middle;\n",
       "    }\n",
       "\n",
       "    .dataframe tbody tr th {\n",
       "        vertical-align: top;\n",
       "    }\n",
       "\n",
       "    .dataframe thead th {\n",
       "        text-align: right;\n",
       "    }\n",
       "</style>\n",
       "<table border=\"1\" class=\"dataframe\">\n",
       "  <thead>\n",
       "    <tr style=\"text-align: right;\">\n",
       "      <th></th>\n",
       "      <th>student_id</th>\n",
       "      <th>age</th>\n",
       "    </tr>\n",
       "  </thead>\n",
       "  <tbody>\n",
       "    <tr>\n",
       "      <th>0</th>\n",
       "      <td>1</td>\n",
       "      <td>1</td>\n",
       "    </tr>\n",
       "    <tr>\n",
       "      <th>1</th>\n",
       "      <td>2</td>\n",
       "      <td>11</td>\n",
       "    </tr>\n",
       "    <tr>\n",
       "      <th>2</th>\n",
       "      <td>3</td>\n",
       "      <td>11</td>\n",
       "    </tr>\n",
       "  </tbody>\n",
       "</table>\n",
       "</div>"
      ],
      "text/plain": [
       "   student_id  age\n",
       "0           1    1\n",
       "1           2   11\n",
       "2           3   11"
      ]
     },
     "execution_count": 170,
     "metadata": {},
     "output_type": "execute_result"
    }
   ],
   "source": [
    "students.head(3)"
   ]
  },
  {
   "cell_type": "markdown",
   "id": "e7f453f8-2176-441a-8db7-a39e626653ca",
   "metadata": {},
   "source": [
    "There is another way to print the first \"x\" rows using Pythin. \n",
    "We can use a technique called slicing where we provide the starting row and the ending \n",
    "row in square brackets, seperated by a column."
   ]
  },
  {
   "cell_type": "code",
   "execution_count": null,
   "id": "381db37e-e2ec-44c3-9572-6d966b31adcc",
   "metadata": {},
   "outputs": [],
   "source": [
    "**example:** .[1:2] "
   ]
  },
  {
   "cell_type": "code",
   "execution_count": 174,
   "id": "5c6f08ea-da84-4ced-a479-246a164a6298",
   "metadata": {},
   "outputs": [
    {
     "data": {
      "text/html": [
       "<div>\n",
       "<style scoped>\n",
       "    .dataframe tbody tr th:only-of-type {\n",
       "        vertical-align: middle;\n",
       "    }\n",
       "\n",
       "    .dataframe tbody tr th {\n",
       "        vertical-align: top;\n",
       "    }\n",
       "\n",
       "    .dataframe thead th {\n",
       "        text-align: right;\n",
       "    }\n",
       "</style>\n",
       "<table border=\"1\" class=\"dataframe\">\n",
       "  <thead>\n",
       "    <tr style=\"text-align: right;\">\n",
       "      <th></th>\n",
       "      <th>student_id</th>\n",
       "      <th>age</th>\n",
       "    </tr>\n",
       "  </thead>\n",
       "  <tbody>\n",
       "    <tr>\n",
       "      <th>1</th>\n",
       "      <td>2</td>\n",
       "      <td>11</td>\n",
       "    </tr>\n",
       "  </tbody>\n",
       "</table>\n",
       "</div>"
      ],
      "text/plain": [
       "   student_id  age\n",
       "1           2   11"
      ]
     },
     "execution_count": 174,
     "metadata": {},
     "output_type": "execute_result"
    }
   ],
   "source": [
    "students[1:2]"
   ]
  },
  {
   "cell_type": "code",
   "execution_count": null,
   "id": "ac46b6cc-1230-4541-8cdd-78d0bee662e2",
   "metadata": {},
   "outputs": [],
   "source": [
    "We my want to do further analysis on a sample of our full dataset (the population).\n",
    "For this, we can use the .(sample)"
   ]
  },
  {
   "cell_type": "code",
   "execution_count": 172,
   "id": "34e707a5-af28-44c3-89d9-299e549d8091",
   "metadata": {},
   "outputs": [
    {
     "data": {
      "text/html": [
       "<div>\n",
       "<style scoped>\n",
       "    .dataframe tbody tr th:only-of-type {\n",
       "        vertical-align: middle;\n",
       "    }\n",
       "\n",
       "    .dataframe tbody tr th {\n",
       "        vertical-align: top;\n",
       "    }\n",
       "\n",
       "    .dataframe thead th {\n",
       "        text-align: right;\n",
       "    }\n",
       "</style>\n",
       "<table border=\"1\" class=\"dataframe\">\n",
       "  <thead>\n",
       "    <tr style=\"text-align: right;\">\n",
       "      <th></th>\n",
       "      <th>student_id</th>\n",
       "      <th>age</th>\n",
       "    </tr>\n",
       "  </thead>\n",
       "  <tbody>\n",
       "    <tr>\n",
       "      <th>2</th>\n",
       "      <td>3</td>\n",
       "      <td>11</td>\n",
       "    </tr>\n",
       "    <tr>\n",
       "      <th>3</th>\n",
       "      <td>4</td>\n",
       "      <td>20</td>\n",
       "    </tr>\n",
       "  </tbody>\n",
       "</table>\n",
       "</div>"
      ],
      "text/plain": [
       "   student_id  age\n",
       "2           3   11\n",
       "3           4   20"
      ]
     },
     "execution_count": 172,
     "metadata": {},
     "output_type": "execute_result"
    }
   ],
   "source": [
    "students.tail(2)"
   ]
  },
  {
   "cell_type": "code",
   "execution_count": null,
   "id": "77c597b1-ae67-4899-80a3-d9eeea2b1bd0",
   "metadata": {},
   "outputs": [],
   "source": [
    "### Checkpoint:\n",
    "\n",
    "1. We imported pan"
   ]
  }
 ],
 "metadata": {
  "kernelspec": {
   "display_name": "Python 3 (ipykernel)",
   "language": "python",
   "name": "python3"
  },
  "language_info": {
   "codemirror_mode": {
    "name": "ipython",
    "version": 3
   },
   "file_extension": ".py",
   "mimetype": "text/x-python",
   "name": "python",
   "nbconvert_exporter": "python",
   "pygments_lexer": "ipython3",
   "version": "3.12.4"
  }
 },
 "nbformat": 4,
 "nbformat_minor": 5
}
